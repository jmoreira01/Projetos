{
 "cells": [
  {
   "cell_type": "markdown",
   "id": "fe3179cd",
   "metadata": {},
   "source": [
    "# Desafio: Pedra, Papel, Tesoura"
   ]
  },
  {
   "cell_type": "markdown",
   "id": "08d525e4",
   "metadata": {},
   "source": [
    "#### Para relembrar:\n",
    "Para obter input do utilizador:\n",
    "\n",
    "    jogador1 = input(\"Por favor, escolha uma jogada\")\n",
    "    \n",
    "Lembre-se que a função input() converte sempre o valor em string. Se quiser usar o valor recolhido como inteiro, faça:\n",
    "\n",
    "    posicao = int(input('Por favor, escreva um número'))\n",
    "    \n",
    "<br>Para 'limpar' o ecrã no Jupyter, pode usar:\n",
    "\n",
    "    from IPython.display import clear_output\n",
    "    clear_output()\n",
    "    \n",
    "Note que o clear_output() apenas funciona em Jupyter. Noutros ambientes de desenvolvimento, pode fazer:\n",
    "\n",
    "    print('\\n'*100)\n",
    "    \n",
    "Ao fazer print de linhas novas, faz com que os valores antigos fiquem fora de vista.\n",
    "Vamos então ao desafio!"
   ]
  },
  {
   "cell_type": "markdown",
   "id": "3580afc8",
   "metadata": {},
   "source": [
    "**Dica: quando aplica a função random.choice() a uma lista, retorna um elemento da lista aleatoriamente**"
   ]
  },
  {
   "cell_type": "code",
   "execution_count": 1,
   "id": "a494f446",
   "metadata": {},
   "outputs": [
    {
     "data": {
      "text/plain": [
       "'b'"
      ]
     },
     "execution_count": 1,
     "metadata": {},
     "output_type": "execute_result"
    }
   ],
   "source": [
    "# experimentar\n",
    "import random\n",
    "random.choice([\"a\", \"b\", \"c\", \"d\", \"e\"])"
   ]
  },
  {
   "cell_type": "markdown",
   "id": "58559f04",
   "metadata": {},
   "source": [
    "**Passo 1: Crie uma lista com as jogadas válidas ('pedra', 'papel' e 'tesoura')**"
   ]
  },
  {
   "cell_type": "code",
   "execution_count": 2,
   "id": "e5677a4c",
   "metadata": {},
   "outputs": [],
   "source": [
    "jogadas = [\"pedra\", \"papel\", \"tesoura\"]"
   ]
  },
  {
   "cell_type": "markdown",
   "id": "773fd0bc",
   "metadata": {},
   "source": [
    "**Passo 2: Crie uma função que retorne aleatoriamente uma jogada: 'pedra', 'papel' ou 'tesoura'**"
   ]
  },
  {
   "cell_type": "code",
   "execution_count": 3,
   "id": "ef6f2381",
   "metadata": {},
   "outputs": [],
   "source": [
    "def jogada_computador():\n",
    "    escolha = random.choice(jogadas)\n",
    "    return escolha"
   ]
  },
  {
   "cell_type": "markdown",
   "id": "5924d188",
   "metadata": {},
   "source": [
    "**TESTAR Passo 2: Corra a função e verifique que retorna sempre uma palavra da lista aleatoriamente**"
   ]
  },
  {
   "cell_type": "code",
   "execution_count": 4,
   "id": "a07a7e22",
   "metadata": {},
   "outputs": [
    {
     "data": {
      "text/plain": [
       "'papel'"
      ]
     },
     "execution_count": 4,
     "metadata": {},
     "output_type": "execute_result"
    }
   ],
   "source": [
    "jogada_computador()"
   ]
  },
  {
   "cell_type": "markdown",
   "id": "62710476",
   "metadata": {},
   "source": [
    "**Passo 3: Crie um ciclo que pede ao utilizador uma jogada ('pedra', 'papel' ou 'tesoura') e continue a pedir até que este escreva uma jogada válida**"
   ]
  },
  {
   "cell_type": "code",
   "execution_count": 5,
   "id": "fe483400",
   "metadata": {},
   "outputs": [
    {
     "name": "stdout",
     "output_type": "stream",
     "text": [
      "Por favor, escolha uma jogada entre pedra, papel ou tesoura: papel\n",
      "Quem ganhará?\n"
     ]
    }
   ],
   "source": [
    "while True:\n",
    "    jogador1 = input(\"Por favor, escolha uma jogada entre pedra, papel ou tesoura: \")\n",
    "    if jogador1.lower() not in (\"pedra\", \"papel\", \"tesoura\"):\n",
    "        print(\"Por favor escreva uma opção váida entre as 3 jogadass possíveis.\")\n",
    "        continue\n",
    "        \n",
    "    else:\n",
    "        print(\"Quem ganhará?\")\n",
    "        break"
   ]
  },
  {
   "cell_type": "markdown",
   "id": "eba8b206",
   "metadata": {},
   "source": [
    "**Passo 4: Crie uma função que recebe duas jogadas (uma do jogador 1 e outra do jogador 2) e retorna quem é o vencedor (jogador 1, jogador 2 ou empate)**\n",
    "\n",
    "**As jogadas apenas podem ser 'pedra', 'papel' ou 'tesoura'. A pedra ganha à tesoura, a tesoura ganha ao papel e o papel ganha à pedra. Se os jogadores fizerem a mesma jogada é empate.**"
   ]
  },
  {
   "cell_type": "code",
   "execution_count": 6,
   "id": "c82d6d14",
   "metadata": {},
   "outputs": [],
   "source": [
    "def quem_ganha(jogador1, jogador2):\n",
    "    if jogador1 == \"pedra\" and jogador2 == \"tesoura\":\n",
    "        print(f\"{jogador1} ganhou, a Pedra vence a Tesoura\")\n",
    "        \n",
    "    elif jogador1 == \"papel\" and jogador2 == \"pedra\":\n",
    "        print(f\"{jogador1} ganhou, o Papel vence a Pedra\")\n",
    "        \n",
    "    elif jogador1 == \"tesoura\" and jogador2 == \"papel\":\n",
    "        print(f\"{jogador1} ganhou, a Tesoura vence o Papel\")\n",
    "        \n",
    "    elif jogador1 == \"pedra\" and jogador2 == \"papel\":\n",
    "        print(f\"{jogador2} ganhou, o Papel vence a Pedra\")\n",
    "        \n",
    "    elif jogador1 == \"papel\" and jogador2 == \"tesoura\":\n",
    "        print(f\"{jogador2} ganhou, a Tesoura vence o Papel\")\n",
    "        \n",
    "    elif jogador1 == \"tesoura\" and jogador2 == \"pedra\":\n",
    "        print(f\"{jogador2} ganhou, a Pedra vence a Tesoura\")\n",
    "        \n",
    "    elif jogador1 == jogador2:\n",
    "        print(f\"{jogador1} empatou com {jogador2}.\")\n",
    "\n",
    "    else:\n",
    "        print(\"Por favor tente de novo.\")\n",
    "    \n",
    "    "
   ]
  },
  {
   "cell_type": "markdown",
   "id": "e3d0a8b0",
   "metadata": {},
   "source": [
    "**TESTAR Passo 4: Corra a função com diferentes jogadas e verifique que está a funcionar**"
   ]
  },
  {
   "cell_type": "code",
   "execution_count": 7,
   "id": "7cfca6b9",
   "metadata": {},
   "outputs": [
    {
     "name": "stdout",
     "output_type": "stream",
     "text": [
      "pedra ganhou, a Pedra vence a Tesoura\n"
     ]
    }
   ],
   "source": [
    "quem_ganha(\"pedra\", \"tesoura\")"
   ]
  },
  {
   "cell_type": "code",
   "execution_count": 8,
   "id": "e78d961c",
   "metadata": {},
   "outputs": [
    {
     "name": "stdout",
     "output_type": "stream",
     "text": [
      "papel ganhou, o Papel vence a Pedra\n"
     ]
    }
   ],
   "source": [
    "quem_ganha(\"pedra\", \"papel\")"
   ]
  },
  {
   "cell_type": "code",
   "execution_count": 9,
   "id": "31f77ddf",
   "metadata": {},
   "outputs": [
    {
     "name": "stdout",
     "output_type": "stream",
     "text": [
      "tesoura ganhou, a Tesoura vence o Papel\n"
     ]
    }
   ],
   "source": [
    "quem_ganha(\"tesoura\", \"papel\")"
   ]
  },
  {
   "cell_type": "code",
   "execution_count": 10,
   "id": "f714f661",
   "metadata": {},
   "outputs": [
    {
     "name": "stdout",
     "output_type": "stream",
     "text": [
      "pedra empatou com pedra.\n"
     ]
    }
   ],
   "source": [
    "quem_ganha(\"pedra\", \"pedra\")"
   ]
  },
  {
   "cell_type": "markdown",
   "id": "546b6023",
   "metadata": {},
   "source": [
    "**Passo 5: Crie o ciclo principal**"
   ]
  },
  {
   "cell_type": "code",
   "execution_count": null,
   "id": "80ecbf41",
   "metadata": {},
   "outputs": [
    {
     "name": "stdout",
     "output_type": "stream",
     "text": [
      "Bem-vindo ao jogo Pedra, Papel, Tesoura por Jorge Moreira.\n",
      " # Pedra ganha à Tesoura.\n",
      " # Tesoura ganha ao Papel.\n",
      " # Papel ganha à Pedra.\n",
      "\n",
      "Por favor, escolha uma jogada entre pedra, papel ou tesoura: pedra\n",
      "o Computador escolheu: papel\n",
      "papel ganhou, o Papel vence a Pedra\n"
     ]
    }
   ],
   "source": [
    "print(\"\"\"Bem-vindo ao jogo Pedra, Papel, Tesoura por Jorge Moreira.\n",
    " # Pedra ganha à Tesoura.\n",
    " # Tesoura ganha ao Papel.\n",
    " # Papel ganha à Pedra.\n",
    "\"\"\")\n",
    "\n",
    "\n",
    "# 1. decidir jogada do computador\n",
    "computador = jogada_computador()\n",
    "\n",
    "# 2. perguntar jogada do utilizador (usar código do passo 3)\n",
    "jogador1 = input(\"Por favor, escolha uma jogada entre pedra, papel ou tesoura: \")\n",
    "if jogador1.lower() not in (\"pedra\", \"papel\", \"tesoura\"):\n",
    "    print(\"Por favor escreva uma opção válida entre as 3 jogadass possíveis.\")\n",
    "\n",
    "\n",
    "# 3. verificar o vencedor\n",
    "print(\"o Computador escolheu: \" + computador)\n",
    "quem_ganha(computador, jogador1)"
   ]
  },
  {
   "cell_type": "code",
   "execution_count": null,
   "id": "2b2958dd",
   "metadata": {},
   "outputs": [],
   "source": []
  }
 ],
 "metadata": {
  "kernelspec": {
   "display_name": "Python 3 (ipykernel)",
   "language": "python",
   "name": "python3"
  },
  "language_info": {
   "codemirror_mode": {
    "name": "ipython",
    "version": 3
   },
   "file_extension": ".py",
   "mimetype": "text/x-python",
   "name": "python",
   "nbconvert_exporter": "python",
   "pygments_lexer": "ipython3",
   "version": "3.9.7"
  }
 },
 "nbformat": 4,
 "nbformat_minor": 5
}
